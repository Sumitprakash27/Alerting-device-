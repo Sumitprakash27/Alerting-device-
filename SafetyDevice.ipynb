{
 "cells": [
  {
   "cell_type": "code",
   "execution_count": 5,
   "metadata": {},
   "outputs": [],
   "source": [
    "import requests\n",
    "import time\n",
    "from geopy.geocoders import Nominatim\n",
    "\n",
    "class SafetyDevice:\n",
    "    def __init__(self):\n",
    "        self.current_location = None\n",
    "        self.forwarding_msg_telegram = None\n",
    "        self.emergency_contacts = {\n",
    "            'primary': '1234567890',  \n",
    "            'police': '112'  \n",
    "        }\n",
    "\n",
    "    def send_telegram_message(self, chat_id='7439759200', message=\"I am in danger\"):\n",
    "        bot_token = '7251028903:AAGJLqT8f6oWt7IQePHIO3UmRz8Wwu9tS-U'\n",
    "        send_text = f'https://api.telegram.org/bot{bot_token}/sendMessage?chat_id={chat_id}&parse_mode=Markdown&text={message}'\n",
    "        response = requests.get(send_text)\n",
    "        return response.json()\n",
    "    \n",
    "    def get_location(self):\n",
    "        response = requests.get(\"http://ipinfo.io\")\n",
    "        data = response.json()\n",
    "        location = data['loc'].split(',')\n",
    "        latitude, longitude = location[0], location[1]\n",
    "\n",
    "        geolocator = Nominatim(user_agent=\"geoapi\")\n",
    "        location_address = geolocator.reverse(f\"{latitude}, {longitude}\")\n",
    "\n",
    "        return {\n",
    "            'latitude': latitude,\n",
    "            'longitude': longitude,\n",
    "            'address': location_address.address if location_address else \"Address not found\"\n",
    "        }\n",
    "    \n",
    "    def send_sms(self, number, location):\n",
    "        location_message = f\"Latitude: {location['latitude']}, Longitude: {location['longitude']}, Address: {location['address']}\"\n",
    "        print(f\"Sending SMS to {number} with location {location_message}\")\n",
    "    \n",
    "    def send_alert(self):\n",
    "        location_data = self.get_location()  \n",
    "        self.send_sms(self.emergency_contacts['primary'], location_data)\n",
    "        self.send_sms(self.emergency_contacts['police'], location_data)\n",
    "        self.send_telegram_message(message=f\"I am in danger. My location is: Latitude: {location_data['latitude']}, Longitude: {location_data['longitude']}, Address: {location_data['address']}\")\n",
    "\n",
    "    def run(self):\n",
    "        start_time = time.time() \n",
    "        while True:\n",
    "            self.send_alert()\n",
    "            time.sleep(5)  \n",
    "            if time.time() - start_time > 5:  \n",
    "                break\n",
    "    "
   ]
  },
  {
   "cell_type": "code",
   "execution_count": 6,
   "metadata": {},
   "outputs": [
    {
     "name": "stdout",
     "output_type": "stream",
     "text": [
      "Sending SMS to 1234567890 with location Latitude: 26.9196, Longitude: 75.7878, Address: Barodia Scheme, Bani Park, Jaipur, Jaipur Municipal Corporation, Jaipur Tehsil, Jaipur District, Rajasthan, 302006, India\n",
      "Sending SMS to 112 with location Latitude: 26.9196, Longitude: 75.7878, Address: Barodia Scheme, Bani Park, Jaipur, Jaipur Municipal Corporation, Jaipur Tehsil, Jaipur District, Rajasthan, 302006, India\n"
     ]
    }
   ],
   "source": [
    "device = SafetyDevice()\n",
    "device.run()"
   ]
  }
 ],
 "metadata": {
  "kernelspec": {
   "display_name": "Python 3",
   "language": "python",
   "name": "python3"
  },
  "language_info": {
   "codemirror_mode": {
    "name": "ipython",
    "version": 3
   },
   "file_extension": ".py",
   "mimetype": "text/x-python",
   "name": "python",
   "nbconvert_exporter": "python",
   "pygments_lexer": "ipython3",
   "version": "3.11.6"
  }
 },
 "nbformat": 4,
 "nbformat_minor": 2
}
